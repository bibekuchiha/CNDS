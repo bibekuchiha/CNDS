{
 "cells": [
  {
   "cell_type": "markdown",
   "id": "120a5973",
   "metadata": {},
   "source": [
    "## Killed in USA\n",
    "\n",
    "##### Given file “terrorismData.csv”\n",
    "\n",
    "It is an open source data including info on terrorism attacks around the world from 1970 through 2017. This dataset includes systematic data on domestic and international terrorist incidents that have occurred during this period.\n",
    "\n",
    "#### Problem Statement:\n",
    "\n",
    "* Find the value of killed column only where country == ‘United States’?\n",
    "\n",
    "* print 0 in place of missing values\n",
    "\n",
    "* find total number of people killed from USA?"
   ]
  },
  {
   "cell_type": "code",
   "execution_count": 22,
   "id": "218662b7",
   "metadata": {},
   "outputs": [],
   "source": [
    "import numpy as np\n",
    "import csv"
   ]
  },
  {
   "cell_type": "code",
   "execution_count": 24,
   "id": "c67270d5",
   "metadata": {},
   "outputs": [],
   "source": [
    "file_obj = open('terrorismData.csv', encoding = 'utf8' )\n",
    "data = csv.DictReader(file_obj, skipinitialspace = True)\n",
    "\n",
    "    \n",
    "killed = []\n",
    "wounded = []\n",
    "country = []\n",
    "day = []\n",
    "\n",
    "for row in data:\n",
    "    killed.append(row['Killed'])\n",
    "    wounded.append(row['Wounded'])\n",
    "    country.append(row['Country'])\n",
    "    day.append(row['Day'])\n",
    "\n",
    "np_killed = np.array(killed)\n",
    "np_wounded = np.array(wounded)\n",
    "np_country = np.array(country)\n",
    "np_day = np.array(day)"
   ]
  },
  {
   "cell_type": "code",
   "execution_count": 25,
   "id": "757dca37",
   "metadata": {},
   "outputs": [
    {
     "data": {
      "text/plain": [
       "array([], dtype=bool)"
      ]
     },
     "execution_count": 25,
     "metadata": {},
     "output_type": "execute_result"
    }
   ],
   "source": [
    "np_killed[np_killed ==''] = '0.0'\n",
    "np_wounded[np_wounded =='']='0.0'\n",
    "np_day[np_day == '']=='0.0'"
   ]
  },
  {
   "cell_type": "code",
   "execution_count": 27,
   "id": "2f0928b0",
   "metadata": {},
   "outputs": [],
   "source": [
    "np_killed = np.array(np_killed, dtype=float)\n",
    "np_wounded = np.array(np_wounded, dtype=float)\n",
    "np_day = np.array(np_day, dtype=float)"
   ]
  },
  {
   "cell_type": "code",
   "execution_count": 5,
   "id": "59a2076d",
   "metadata": {},
   "outputs": [],
   "source": [
    "bool_arr = np_country=='United States'"
   ]
  },
  {
   "cell_type": "code",
   "execution_count": 6,
   "id": "4e942516",
   "metadata": {},
   "outputs": [],
   "source": [
    "usa_killed = np_killed[bool_arr]"
   ]
  },
  {
   "cell_type": "code",
   "execution_count": 7,
   "id": "764daab9",
   "metadata": {},
   "outputs": [
    {
     "data": {
      "text/plain": [
       "3771.0"
      ]
     },
     "execution_count": 7,
     "metadata": {},
     "output_type": "execute_result"
    }
   ],
   "source": [
    "usa_killed.sum()"
   ]
  },
  {
   "cell_type": "code",
   "execution_count": 8,
   "id": "d5cd4459",
   "metadata": {},
   "outputs": [
    {
     "data": {
      "text/plain": [
       "411868.0"
      ]
     },
     "execution_count": 8,
     "metadata": {},
     "output_type": "execute_result"
    }
   ],
   "source": [
    "np_killed.sum()"
   ]
  },
  {
   "cell_type": "markdown",
   "id": "7ba8bcb3",
   "metadata": {},
   "source": [
    "## Problem Statement:\n",
    " \n",
    "* Find the number of attack held between day 10 and day 20 ? (ignoring the year and month)(including both day)\n",
    "* Print count of NumberOfAttack as integer vaolue"
   ]
  },
  {
   "cell_type": "code",
   "execution_count": 35,
   "id": "f531d071",
   "metadata": {},
   "outputs": [],
   "source": [
    "np_day = np.array(np_day, dtype= int)"
   ]
  },
  {
   "cell_type": "code",
   "execution_count": 38,
   "id": "63212e3c",
   "metadata": {},
   "outputs": [],
   "source": [
    "np_dayBool = (np_day >= 10) & (np_day <= 20)"
   ]
  },
  {
   "cell_type": "code",
   "execution_count": 39,
   "id": "4b8c992d",
   "metadata": {},
   "outputs": [
    {
     "data": {
      "text/plain": [
       "array([False, False, False, ..., False, False, False])"
      ]
     },
     "execution_count": 39,
     "metadata": {},
     "output_type": "execute_result"
    }
   ],
   "source": [
    "np_dayBool"
   ]
  },
  {
   "cell_type": "code",
   "execution_count": 43,
   "id": "3878e03b",
   "metadata": {},
   "outputs": [
    {
     "data": {
      "text/plain": [
       "array([1., 0., 1., ..., 0., 0., 0.])"
      ]
     },
     "execution_count": 43,
     "metadata": {},
     "output_type": "execute_result"
    }
   ],
   "source": [
    "row['NumberOfAttack'] = np_wounded + np_killed\n",
    "row['NumberOfAttack']"
   ]
  },
  {
   "cell_type": "code",
   "execution_count": 44,
   "id": "a938066c",
   "metadata": {},
   "outputs": [
    {
     "data": {
      "text/plain": [
       "935737.0"
      ]
     },
     "execution_count": 44,
     "metadata": {},
     "output_type": "execute_result"
    }
   ],
   "source": [
    "row['NumberOfAttack'].sum()"
   ]
  },
  {
   "cell_type": "code",
   "execution_count": 48,
   "id": "8c28e0d9",
   "metadata": {},
   "outputs": [
    {
     "name": "stdout",
     "output_type": "stream",
     "text": [
      "366905.0\n"
     ]
    }
   ],
   "source": [
    "print(row['NumberOfAttack'][np_dayBool].sum())"
   ]
  },
  {
   "cell_type": "code",
   "execution_count": null,
   "id": "96db52dd",
   "metadata": {},
   "outputs": [],
   "source": []
  }
 ],
 "metadata": {
  "kernelspec": {
   "display_name": "Python 3 (ipykernel)",
   "language": "python",
   "name": "python3"
  },
  "language_info": {
   "codemirror_mode": {
    "name": "ipython",
    "version": 3
   },
   "file_extension": ".py",
   "mimetype": "text/x-python",
   "name": "python",
   "nbconvert_exporter": "python",
   "pygments_lexer": "ipython3",
   "version": "3.9.6"
  }
 },
 "nbformat": 4,
 "nbformat_minor": 5
}
