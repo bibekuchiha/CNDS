{
 "cells": [
  {
   "cell_type": "markdown",
   "id": "d53eb1f7",
   "metadata": {},
   "source": [
    "## Killed in USA\n",
    "\n",
    "##### Given file “terrorismData.csv”\n",
    "\n",
    "It is an open source data including info on terrorism attacks around the world from 1970 through 2017. This dataset includes systematic data on domestic and international terrorist incidents that have occurred during this period.\n",
    "\n",
    "#### Problem Statement:\n",
    "\n",
    "* Find the value of killed column only where country == ‘United States’?\n",
    "\n",
    "* print 0 in place of missing values\n",
    "\n",
    "* find total number of people killed from USA?"
   ]
  },
  {
   "cell_type": "code",
   "execution_count": 28,
   "id": "e9efb4d6",
   "metadata": {},
   "outputs": [],
   "source": [
    "import numpy as np\n",
    "import csv"
   ]
  },
  {
   "cell_type": "code",
   "execution_count": 39,
   "id": "aa5a9eb1",
   "metadata": {},
   "outputs": [],
   "source": [
    "file_obj = open('terrorismData.csv', encoding = 'utf8' )\n",
    "data = csv.DictReader(file_obj, skipinitialspace = True)\n",
    "\n",
    "    \n",
    "killed = []\n",
    "wounded = []\n",
    "country = []\n",
    "\n",
    "for row in data:\n",
    "    killed.append(row['Killed'])\n",
    "    wounded.append(row['Wounded'])\n",
    "    country.append(row['Country'])\n",
    "\n",
    "np_killed = np.array(killed)\n",
    "np_wounded = np.array(wounded)\n",
    "np_country = np.array(country)"
   ]
  },
  {
   "cell_type": "code",
   "execution_count": 43,
   "id": "4023ad0d",
   "metadata": {},
   "outputs": [],
   "source": [
    "np_killed[np_killed ==''] = '0.0'\n",
    "np_wounded[np_wounded =='']='0.0'"
   ]
  },
  {
   "cell_type": "code",
   "execution_count": 46,
   "id": "2911ef2a",
   "metadata": {},
   "outputs": [],
   "source": [
    "np_killed = np.array(np_killed, dtype=float)\n",
    "np_wounded = np.array(np_wounded, dtype=float)"
   ]
  },
  {
   "cell_type": "code",
   "execution_count": 50,
   "id": "0aad9c8d",
   "metadata": {},
   "outputs": [],
   "source": [
    "bool_arr = np_country=='United States'"
   ]
  },
  {
   "cell_type": "code",
   "execution_count": 53,
   "id": "18b65c3e",
   "metadata": {},
   "outputs": [],
   "source": [
    "usa_killed = np_killed[bool_arr]"
   ]
  },
  {
   "cell_type": "code",
   "execution_count": 54,
   "id": "4bc3b2d7",
   "metadata": {},
   "outputs": [
    {
     "data": {
      "text/plain": [
       "3771.0"
      ]
     },
     "execution_count": 54,
     "metadata": {},
     "output_type": "execute_result"
    }
   ],
   "source": [
    "usa_killed.sum()"
   ]
  },
  {
   "cell_type": "code",
   "execution_count": 55,
   "id": "b33d12e4",
   "metadata": {},
   "outputs": [
    {
     "data": {
      "text/plain": [
       "411868.0"
      ]
     },
     "execution_count": 55,
     "metadata": {},
     "output_type": "execute_result"
    }
   ],
   "source": [
    "np_killed.sum()"
   ]
  },
  {
   "cell_type": "code",
   "execution_count": null,
   "id": "dad51bf2",
   "metadata": {},
   "outputs": [],
   "source": []
  }
 ],
 "metadata": {
  "kernelspec": {
   "display_name": "Python 3 (ipykernel)",
   "language": "python",
   "name": "python3"
  },
  "language_info": {
   "codemirror_mode": {
    "name": "ipython",
    "version": 3
   },
   "file_extension": ".py",
   "mimetype": "text/x-python",
   "name": "python",
   "nbconvert_exporter": "python",
   "pygments_lexer": "ipython3",
   "version": "3.9.6"
  }
 },
 "nbformat": 4,
 "nbformat_minor": 5
}
