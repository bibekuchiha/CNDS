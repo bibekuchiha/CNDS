{
 "cells": [
  {
   "cell_type": "markdown",
   "id": "36817bfb",
   "metadata": {},
   "source": [
    "## Find average Marks\n",
    "\n",
    "#### Write a program to input marks of three tests of a student (all integers). Then calculate and print the average of all test marks.\n"
   ]
  },
  {
   "cell_type": "code",
   "execution_count": 3,
   "id": "7d8532a7",
   "metadata": {},
   "outputs": [
    {
     "name": "stdout",
     "output_type": "stream",
     "text": [
      "Enter the marks for student A: 67\n",
      "Enter the marks for student B: 77\n",
      "Enter the marks for student C: 87\n",
      "The Average marks of students is 77.0\n"
     ]
    }
   ],
   "source": [
    "a = int(input('Enter the marks for student A: '))\n",
    "b = int(input('Enter the marks for student B: '))\n",
    "c = int(input('Enter the marks for student C: '))\n",
    "\n",
    "average_marks = (a + b + c)/3\n",
    "print('The Average marks of students is '+ str(average_marks))"
   ]
  },
  {
   "cell_type": "markdown",
   "id": "e7cb346e",
   "metadata": {},
   "source": [
    "## FInd X raised to Power N\n",
    "\n",
    "#### You are given two integers: X and N. You have to calculate X raised to power N and print it."
   ]
  },
  {
   "cell_type": "code",
   "execution_count": 6,
   "id": "111588cd",
   "metadata": {},
   "outputs": [
    {
     "name": "stdout",
     "output_type": "stream",
     "text": [
      "10000\n"
     ]
    }
   ],
   "source": [
    "X = 10\n",
    "N = 4\n",
    "\n",
    "X_raised_to_Power_N = X**N\n",
    "print(X_raised_to_Power_N)"
   ]
  },
  {
   "cell_type": "code",
   "execution_count": null,
   "id": "d1bde1bc",
   "metadata": {},
   "outputs": [],
   "source": []
  }
 ],
 "metadata": {
  "kernelspec": {
   "display_name": "Python 3 (ipykernel)",
   "language": "python",
   "name": "python3"
  },
  "language_info": {
   "codemirror_mode": {
    "name": "ipython",
    "version": 3
   },
   "file_extension": ".py",
   "mimetype": "text/x-python",
   "name": "python",
   "nbconvert_exporter": "python",
   "pygments_lexer": "ipython3",
   "version": "3.9.6"
  }
 },
 "nbformat": 4,
 "nbformat_minor": 5
}
